{
 "cells": [
  {
   "cell_type": "code",
   "execution_count": 1,
   "metadata": {},
   "outputs": [
    {
     "name": "stdout",
     "output_type": "stream",
     "text": [
      "Output file to: imageCap.png\n"
     ]
    }
   ],
   "source": [
    "import tkinter as tk\n",
    "import os\n",
    "import cv2\n",
    "import sys\n",
    "from PIL import Image, ImageTk\n",
    "import numpy\n",
    "\n",
    "fileName = os.environ['ALLUSERSPROFILE'] + \"\\WebcamCap.txt\"\n",
    "cancel = False\n",
    "\n",
    "def prompt_ok(event = 0):\n",
    "    global cancel, button, button1, button2\n",
    "    cancel = True\n",
    "\n",
    "    button.place_forget()\n",
    "    button1 = tk.Button(mainWindow, text=\"Good Image!\", command=saveAndExit)\n",
    "    button2 = tk.Button(mainWindow, text=\"Try Again\", command=resume)\n",
    "    button1.place(anchor=tk.CENTER, relx=0.2, rely=0.9, width=150, height=50)\n",
    "    button2.place(anchor=tk.CENTER, relx=0.8, rely=0.9, width=150, height=50)\n",
    "    button1.focus()\n",
    "\n",
    "def saveAndExit(event = 0):\n",
    "    global prevImg\n",
    "    filepath = \"imageCap.png\"\n",
    "    #if (len(sys.argv) < 2):\n",
    "    #    filepath = \"imageCap.png\"\n",
    "    #else:\n",
    "    #    filepath = sys.argv[1]\n",
    "\n",
    "    print (\"Output file to: \" + filepath)\n",
    "    prevImg.save(filepath)\n",
    "    mainWindow.quit()\n",
    "\n",
    "\n",
    "def resume(event = 0):\n",
    "    global button1, button2, button, lmain, cancel\n",
    "\n",
    "    cancel = False\n",
    "\n",
    "    button1.place_forget()\n",
    "    button2.place_forget()\n",
    "\n",
    "    mainWindow.bind('<Return>', prompt_ok)\n",
    "    button.place(bordermode=tk.INSIDE, relx=0.5, rely=0.9, anchor=tk.CENTER, width=300, height=50)\n",
    "    lmain.after(10, show_frame)\n",
    "\n",
    "def changeCam(event=0, nextCam=-1):\n",
    "    global camIndex, cap, fileName\n",
    "\n",
    "    if nextCam == -1:\n",
    "        camIndex += 1\n",
    "    else:\n",
    "        camIndex = nextCam\n",
    "    del(cap)\n",
    "    cap = cv2.VideoCapture(camIndex)\n",
    "\n",
    "    #try to get a frame, if it returns nothing\n",
    "    success, frame = cap.read()\n",
    "    if not success:\n",
    "        camIndex = 0\n",
    "        del(cap)\n",
    "        cap = cv2.VideoCapture(camIndex)\n",
    "\n",
    "    f = open(fileName, 'w')\n",
    "    f.write(str(camIndex))\n",
    "    f.close()\n",
    "\n",
    "try:\n",
    "    f = open(fileName, 'r')\n",
    "    camIndex = int(f.readline())\n",
    "except:\n",
    "    camIndex = 0\n",
    "\n",
    "cap = cv2.VideoCapture(camIndex)\n",
    "capWidth = cap.get(3)\n",
    "capHeight = cap.get(4)\n",
    "\n",
    "success, frame = cap.read()\n",
    "if not success:\n",
    "    if camIndex == 0:\n",
    "        print(\"Error, No webcam found!\")\n",
    "        sys.exit(1)\n",
    "    else:\n",
    "        changeCam(nextCam=0)\n",
    "        success, frame = cap.read()\n",
    "        if not success:\n",
    "            print(\"Error, No webcam found!\")\n",
    "            sys.exit(1)\n",
    "\n",
    "\n",
    "mainWindow = tk.Tk(screenName=\"Camera Capture\")\n",
    "mainWindow.resizable(width=False, height=False)\n",
    "mainWindow.bind('<Escape>', lambda e: mainWindow.quit())\n",
    "lmain = tk.Label(mainWindow, compound=tk.CENTER, anchor=tk.CENTER, relief=tk.RAISED)\n",
    "button = tk.Button(mainWindow, text=\"Capture\", command=prompt_ok)\n",
    "button_changeCam = tk.Button(mainWindow, text=\"Switch Camera\", command=changeCam)\n",
    "\n",
    "lmain.pack()\n",
    "button.place(bordermode=tk.INSIDE, relx=0.5, rely=0.9, anchor=tk.CENTER, width=300, height=50)\n",
    "button.focus()\n",
    "button_changeCam.place(bordermode=tk.INSIDE, relx=0.85, rely=0.1, anchor=tk.CENTER, width=150, height=50)\n",
    "\n",
    "def show_frame():\n",
    "    global cancel, prevImg, button\n",
    "\n",
    "    _, frame = cap.read()\n",
    "    cv2image = cv2.cvtColor(frame, cv2.COLOR_BGR2RGBA)\n",
    "\n",
    "    prevImg = Image.fromarray(cv2image)\n",
    "    imgtk = ImageTk.PhotoImage(image=prevImg)\n",
    "    lmain.imgtk = imgtk\n",
    "    lmain.configure(image=imgtk)\n",
    "    if not cancel:\n",
    "        lmain.after(10, show_frame)\n",
    "\n",
    "show_frame()\n",
    "mainWindow.mainloop()"
   ]
  },
  {
   "cell_type": "code",
   "execution_count": 6,
   "metadata": {},
   "outputs": [],
   "source": [
    "fileName = os.environ['ALLUSERSPROFILE'] + \"\\WebcamCap.txt\""
   ]
  },
  {
   "cell_type": "code",
   "execution_count": 7,
   "metadata": {},
   "outputs": [
    {
     "data": {
      "text/plain": [
       "'C:\\\\ProgramData\\\\WebcamCap.txt'"
      ]
     },
     "execution_count": 7,
     "metadata": {},
     "output_type": "execute_result"
    }
   ],
   "source": [
    "fileName"
   ]
  },
  {
   "cell_type": "code",
   "execution_count": null,
   "metadata": {},
   "outputs": [],
   "source": []
  },
  {
   "cell_type": "code",
   "execution_count": null,
   "metadata": {},
   "outputs": [],
   "source": []
  },
  {
   "cell_type": "code",
   "execution_count": null,
   "metadata": {},
   "outputs": [],
   "source": []
  },
  {
   "cell_type": "code",
   "execution_count": null,
   "metadata": {},
   "outputs": [],
   "source": []
  }
 ],
 "metadata": {
  "interpreter": {
   "hash": "b0b0e9607aa7199b1ab863cb1f0d61516a11e022c153f178d70caf221baabe17"
  },
  "kernelspec": {
   "display_name": "Python 3.8.12 ('base')",
   "language": "python",
   "name": "python3"
  },
  "language_info": {
   "codemirror_mode": {
    "name": "ipython",
    "version": 3
   },
   "file_extension": ".py",
   "mimetype": "text/x-python",
   "name": "python",
   "nbconvert_exporter": "python",
   "pygments_lexer": "ipython3",
   "version": "3.8.12"
  },
  "orig_nbformat": 4
 },
 "nbformat": 4,
 "nbformat_minor": 2
}
